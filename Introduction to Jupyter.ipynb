{
 "cells": [
  {
   "cell_type": "markdown",
   "id": "702ea9ba",
   "metadata": {},
   "source": [
    "# First Level"
   ]
  },
  {
   "cell_type": "markdown",
   "id": "97f33f04",
   "metadata": {},
   "source": [
    "## Second Level"
   ]
  },
  {
   "cell_type": "markdown",
   "id": "d4d0ef16",
   "metadata": {},
   "source": [
    "This is our first text as you can see"
   ]
  },
  {
   "cell_type": "markdown",
   "id": "3cc51100",
   "metadata": {},
   "source": [
    "* First line in list\n",
    "* Second line in list"
   ]
  },
  {
   "cell_type": "markdown",
   "id": "1152b96a",
   "metadata": {},
   "source": [
    "1. first line in list with numbers\n",
    "2. second line in list with numbers"
   ]
  },
  {
   "cell_type": "markdown",
   "id": "5ee8c06c",
   "metadata": {},
   "source": [
    "[www.example.com]"
   ]
  },
  {
   "cell_type": "code",
   "execution_count": null,
   "id": "56ca46cd",
   "metadata": {},
   "outputs": [],
   "source": []
  }
 ],
 "metadata": {
  "kernelspec": {
   "display_name": "Python 3",
   "language": "python",
   "name": "python3"
  },
  "language_info": {
   "codemirror_mode": {
    "name": "ipython",
    "version": 3
   },
   "file_extension": ".py",
   "mimetype": "text/x-python",
   "name": "python",
   "nbconvert_exporter": "python",
   "pygments_lexer": "ipython3",
   "version": "3.8.8"
  }
 },
 "nbformat": 4,
 "nbformat_minor": 5
}
