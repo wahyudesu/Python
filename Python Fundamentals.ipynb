{
 "cells": [
  {
   "cell_type": "markdown",
   "id": "b629de66",
   "metadata": {},
   "source": [
    "# Comparing values in Python"
   ]
  },
  {
   "cell_type": "code",
   "execution_count": 1,
   "id": "c654fd82",
   "metadata": {},
   "outputs": [],
   "source": [
    "x = 10\n",
    "y = 20"
   ]
  },
  {
   "cell_type": "code",
   "execution_count": 2,
   "id": "f1ff8264",
   "metadata": {},
   "outputs": [
    {
     "data": {
      "text/plain": [
       "False"
      ]
     },
     "execution_count": 2,
     "metadata": {},
     "output_type": "execute_result"
    }
   ],
   "source": [
    "x > y"
   ]
  },
  {
   "cell_type": "code",
   "execution_count": 3,
   "id": "48e871df",
   "metadata": {},
   "outputs": [
    {
     "data": {
      "text/plain": [
       "True"
      ]
     },
     "execution_count": 3,
     "metadata": {},
     "output_type": "execute_result"
    }
   ],
   "source": [
    "x < y"
   ]
  },
  {
   "cell_type": "code",
   "execution_count": 4,
   "id": "1835f6e8",
   "metadata": {},
   "outputs": [
    {
     "data": {
      "text/plain": [
       "False"
      ]
     },
     "execution_count": 4,
     "metadata": {},
     "output_type": "execute_result"
    }
   ],
   "source": [
    "x >= y"
   ]
  },
  {
   "cell_type": "code",
   "execution_count": 5,
   "id": "ef062afd",
   "metadata": {},
   "outputs": [
    {
     "data": {
      "text/plain": [
       "True"
      ]
     },
     "execution_count": 5,
     "metadata": {},
     "output_type": "execute_result"
    }
   ],
   "source": [
    "x <= y"
   ]
  },
  {
   "cell_type": "code",
   "execution_count": 6,
   "id": "e5effaf5",
   "metadata": {},
   "outputs": [
    {
     "data": {
      "text/plain": [
       "True"
      ]
     },
     "execution_count": 6,
     "metadata": {},
     "output_type": "execute_result"
    }
   ],
   "source": [
    "x != y"
   ]
  },
  {
   "cell_type": "code",
   "execution_count": 7,
   "id": "e8832ae7",
   "metadata": {},
   "outputs": [
    {
     "data": {
      "text/plain": [
       "False"
      ]
     },
     "execution_count": 7,
     "metadata": {},
     "output_type": "execute_result"
    }
   ],
   "source": [
    "x == y"
   ]
  },
  {
   "cell_type": "code",
   "execution_count": 8,
   "id": "8b345d3c",
   "metadata": {},
   "outputs": [
    {
     "data": {
      "text/plain": [
       "bool"
      ]
     },
     "execution_count": 8,
     "metadata": {},
     "output_type": "execute_result"
    }
   ],
   "source": [
    "type(x == y)"
   ]
  },
  {
   "cell_type": "code",
   "execution_count": 9,
   "id": "1ced55fd",
   "metadata": {},
   "outputs": [
    {
     "name": "stdout",
     "output_type": "stream",
     "text": [
      "<class 'bool'>\n"
     ]
    }
   ],
   "source": [
    "print(type(x < y))"
   ]
  },
  {
   "cell_type": "code",
   "execution_count": 10,
   "id": "aac6a3f0",
   "metadata": {},
   "outputs": [
    {
     "data": {
      "text/plain": [
       "True"
      ]
     },
     "execution_count": 10,
     "metadata": {},
     "output_type": "execute_result"
    }
   ],
   "source": [
    "\"c\" == \"c\""
   ]
  },
  {
   "cell_type": "code",
   "execution_count": 11,
   "id": "227693f0",
   "metadata": {},
   "outputs": [
    {
     "data": {
      "text/plain": [
       "False"
      ]
     },
     "execution_count": 11,
     "metadata": {},
     "output_type": "execute_result"
    }
   ],
   "source": [
    "\"c\" == \"d\""
   ]
  },
  {
   "cell_type": "code",
   "execution_count": 12,
   "id": "fdd701d2",
   "metadata": {},
   "outputs": [
    {
     "data": {
      "text/plain": [
       "False"
      ]
     },
     "execution_count": 12,
     "metadata": {},
     "output_type": "execute_result"
    }
   ],
   "source": [
    "\"c\" > \"d\""
   ]
  },
  {
   "cell_type": "code",
   "execution_count": 13,
   "id": "06ef09c1",
   "metadata": {},
   "outputs": [
    {
     "data": {
      "text/plain": [
       "True"
      ]
     },
     "execution_count": 13,
     "metadata": {},
     "output_type": "execute_result"
    }
   ],
   "source": [
    "\"c\" < \"d\""
   ]
  },
  {
   "cell_type": "code",
   "execution_count": 14,
   "id": "147afdb2",
   "metadata": {},
   "outputs": [
    {
     "data": {
      "text/plain": [
       "bool"
      ]
     },
     "execution_count": 14,
     "metadata": {},
     "output_type": "execute_result"
    }
   ],
   "source": [
    "type(\"c\" < \"f\")"
   ]
  },
  {
   "cell_type": "markdown",
   "id": "c770a268",
   "metadata": {},
   "source": [
    "# Logical operators"
   ]
  },
  {
   "cell_type": "code",
   "execution_count": 15,
   "id": "0818fb84",
   "metadata": {},
   "outputs": [
    {
     "data": {
      "text/plain": [
       "True"
      ]
     },
     "execution_count": 15,
     "metadata": {},
     "output_type": "execute_result"
    }
   ],
   "source": [
    "3 > 2 and 10 <= 12"
   ]
  },
  {
   "cell_type": "code",
   "execution_count": 16,
   "id": "fc2dbeb7",
   "metadata": {},
   "outputs": [
    {
     "data": {
      "text/plain": [
       "False"
      ]
     },
     "execution_count": 16,
     "metadata": {},
     "output_type": "execute_result"
    }
   ],
   "source": [
    "3 < 2 and 10 <= 12"
   ]
  },
  {
   "cell_type": "code",
   "execution_count": 17,
   "id": "d405b2aa",
   "metadata": {},
   "outputs": [
    {
     "data": {
      "text/plain": [
       "False"
      ]
     },
     "execution_count": 17,
     "metadata": {},
     "output_type": "execute_result"
    }
   ],
   "source": [
    "3 < 2 and 10 >= 12"
   ]
  },
  {
   "cell_type": "code",
   "execution_count": 18,
   "id": "a4ecd015",
   "metadata": {},
   "outputs": [
    {
     "data": {
      "text/plain": [
       "True"
      ]
     },
     "execution_count": 18,
     "metadata": {},
     "output_type": "execute_result"
    }
   ],
   "source": [
    "True and True"
   ]
  },
  {
   "cell_type": "code",
   "execution_count": 19,
   "id": "8b10c2aa",
   "metadata": {},
   "outputs": [
    {
     "data": {
      "text/plain": [
       "False"
      ]
     },
     "execution_count": 19,
     "metadata": {},
     "output_type": "execute_result"
    }
   ],
   "source": [
    "True and False"
   ]
  },
  {
   "cell_type": "code",
   "execution_count": 20,
   "id": "62c1694a",
   "metadata": {},
   "outputs": [
    {
     "data": {
      "text/plain": [
       "False"
      ]
     },
     "execution_count": 20,
     "metadata": {},
     "output_type": "execute_result"
    }
   ],
   "source": [
    "False and False"
   ]
  },
  {
   "cell_type": "code",
   "execution_count": 21,
   "id": "277e7590",
   "metadata": {},
   "outputs": [
    {
     "data": {
      "text/plain": [
       "True"
      ]
     },
     "execution_count": 21,
     "metadata": {},
     "output_type": "execute_result"
    }
   ],
   "source": [
    "3 < 2 or 10 <= 12"
   ]
  },
  {
   "cell_type": "code",
   "execution_count": 22,
   "id": "14f76b1f",
   "metadata": {},
   "outputs": [
    {
     "data": {
      "text/plain": [
       "True"
      ]
     },
     "execution_count": 22,
     "metadata": {},
     "output_type": "execute_result"
    }
   ],
   "source": [
    "3 > 2 or 10 <= 12"
   ]
  },
  {
   "cell_type": "code",
   "execution_count": 23,
   "id": "b625917e",
   "metadata": {},
   "outputs": [
    {
     "data": {
      "text/plain": [
       "False"
      ]
     },
     "execution_count": 23,
     "metadata": {},
     "output_type": "execute_result"
    }
   ],
   "source": [
    "3 < 2 or 10 >= 12"
   ]
  },
  {
   "cell_type": "code",
   "execution_count": 24,
   "id": "57abf2ec",
   "metadata": {},
   "outputs": [
    {
     "data": {
      "text/plain": [
       "False"
      ]
     },
     "execution_count": 24,
     "metadata": {},
     "output_type": "execute_result"
    }
   ],
   "source": [
    "not True"
   ]
  },
  {
   "cell_type": "code",
   "execution_count": 25,
   "id": "bc3cf4e7",
   "metadata": {},
   "outputs": [
    {
     "data": {
      "text/plain": [
       "True"
      ]
     },
     "execution_count": 25,
     "metadata": {},
     "output_type": "execute_result"
    }
   ],
   "source": [
    "not False"
   ]
  },
  {
   "cell_type": "code",
   "execution_count": 26,
   "id": "4fd007a7",
   "metadata": {},
   "outputs": [
    {
     "data": {
      "text/plain": [
       "True"
      ]
     },
     "execution_count": 26,
     "metadata": {},
     "output_type": "execute_result"
    }
   ],
   "source": [
    "not True != True"
   ]
  },
  {
   "cell_type": "code",
   "execution_count": 27,
   "id": "5dc26390",
   "metadata": {},
   "outputs": [
    {
     "data": {
      "text/plain": [
       "True"
      ]
     },
     "execution_count": 27,
     "metadata": {},
     "output_type": "execute_result"
    }
   ],
   "source": [
    "not True == False"
   ]
  },
  {
   "cell_type": "markdown",
   "id": "2ffb29f1",
   "metadata": {},
   "source": [
    "# Conditional Statements"
   ]
  },
  {
   "cell_type": "code",
   "execution_count": 1,
   "id": "094f3f69",
   "metadata": {},
   "outputs": [
    {
     "name": "stdout",
     "output_type": "stream",
     "text": [
      "This is True!\n"
     ]
    }
   ],
   "source": [
    "if True:\n",
    "    print(\"This is True!\")"
   ]
  },
  {
   "cell_type": "code",
   "execution_count": 2,
   "id": "ccd60652",
   "metadata": {},
   "outputs": [
    {
     "name": "stdout",
     "output_type": "stream",
     "text": [
      "10 is equal to 5 multiplied by 2!\n"
     ]
    }
   ],
   "source": [
    "if 10 == 5 * 2:\n",
    "    print(\"10 is equal to 5 multiplied by 2!\")"
   ]
  },
  {
   "cell_type": "code",
   "execution_count": 3,
   "id": "9941ce3c",
   "metadata": {},
   "outputs": [],
   "source": [
    "if 10 == 3 * 2:\n",
    "    print(\"This is not executed!\")"
   ]
  },
  {
   "cell_type": "code",
   "execution_count": 4,
   "id": "5d0ec157",
   "metadata": {},
   "outputs": [
    {
     "name": "stdout",
     "output_type": "stream",
     "text": [
      "The string will be executed\n",
      "Thanks for finishing the process!\n"
     ]
    }
   ],
   "source": [
    "x = 15\n",
    "\n",
    "if x >= 10:\n",
    "    print(\"The string will be executed\")\n",
    "print(\"Thanks for finishing the process!\")"
   ]
  },
  {
   "cell_type": "code",
   "execution_count": 5,
   "id": "5a8c0cbe",
   "metadata": {},
   "outputs": [
    {
     "name": "stdout",
     "output_type": "stream",
     "text": [
      "Sorry, you failed!\n",
      "Thanks for joining us!\n"
     ]
    }
   ],
   "source": [
    "x = 20\n",
    "\n",
    "if x >= 30:\n",
    "    print(\"You are succeeded!\")\n",
    "\n",
    "if x < 30:\n",
    "    print(\"Sorry, you failed!\")\n",
    "    \n",
    "print(\"Thanks for joining us!\")"
   ]
  },
  {
   "cell_type": "code",
   "execution_count": 6,
   "id": "6d3e0f63",
   "metadata": {},
   "outputs": [
    {
     "name": "stdout",
     "output_type": "stream",
     "text": [
      "Sorry, you failed!\n",
      "Thanks for joining us!\n"
     ]
    }
   ],
   "source": [
    "x = 20\n",
    "\n",
    "if x >= 30:\n",
    "    print(\"You are succeeded!\")\n",
    "else:\n",
    "    print(\"Sorry, you failed!\")\n",
    "    \n",
    "print(\"Thanks for joining us!\")"
   ]
  },
  {
   "cell_type": "code",
   "execution_count": 7,
   "id": "d87aba44",
   "metadata": {},
   "outputs": [
    {
     "name": "stdout",
     "output_type": "stream",
     "text": [
      "You are in the middle!\n",
      "Thanks for joining us!\n"
     ]
    }
   ],
   "source": [
    "x = 30\n",
    "\n",
    "if x > 30:\n",
    "    print(\"You are succeeded!\")\n",
    "elif x == 30:\n",
    "    print(\"You are in the middle!\")\n",
    "else:\n",
    "    print(\"Sorry, you failed!\")\n",
    "    \n",
    "print(\"Thanks for joining us!\")"
   ]
  },
  {
   "cell_type": "markdown",
   "id": "ea85f1bd",
   "metadata": {},
   "source": [
    "# The while loop"
   ]
  },
  {
   "cell_type": "code",
   "execution_count": 8,
   "id": "cca23a1a",
   "metadata": {},
   "outputs": [
    {
     "name": "stdout",
     "output_type": "stream",
     "text": [
      "1\n",
      "2\n",
      "3\n",
      "4\n",
      "5\n",
      "6\n"
     ]
    }
   ],
   "source": [
    "x = 1\n",
    "\n",
    "while x < 7:\n",
    "    print(x)\n",
    "    x = x + 1"
   ]
  },
  {
   "cell_type": "markdown",
   "id": "a4654b8e",
   "metadata": {},
   "source": [
    "# The for loop"
   ]
  },
  {
   "cell_type": "code",
   "execution_count": 9,
   "id": "aee508ee",
   "metadata": {},
   "outputs": [
    {
     "name": "stdout",
     "output_type": "stream",
     "text": [
      "P\n",
      "r\n",
      "o\n",
      "g\n",
      "r\n",
      "a\n",
      "m\n",
      "m\n",
      "i\n",
      "n\n",
      "g\n"
     ]
    }
   ],
   "source": [
    "for chars in \"Programming\":\n",
    "    print(chars)"
   ]
  },
  {
   "cell_type": "code",
   "execution_count": 10,
   "id": "13f168bf",
   "metadata": {},
   "outputs": [
    {
     "name": "stdout",
     "output_type": "stream",
     "text": [
      "Programming\n",
      "Programming\n",
      "Programming\n",
      "Programming\n",
      "Programming\n"
     ]
    }
   ],
   "source": [
    "for i in range(5):\n",
    "    print(\"Programming\")"
   ]
  },
  {
   "cell_type": "code",
   "execution_count": 11,
   "id": "209e8e62",
   "metadata": {},
   "outputs": [
    {
     "name": "stdout",
     "output_type": "stream",
     "text": [
      "10\n",
      "12\n",
      "14\n",
      "16\n",
      "18\n",
      "20\n",
      "22\n",
      "24\n",
      "26\n",
      "28\n"
     ]
    }
   ],
   "source": [
    "for i in range(5, 15):\n",
    "    print(i + i)"
   ]
  },
  {
   "cell_type": "markdown",
   "id": "91fb80cb",
   "metadata": {},
   "source": [
    " # Built-in Functions"
   ]
  },
  {
   "cell_type": "code",
   "execution_count": 12,
   "id": "34fe94fd",
   "metadata": {},
   "outputs": [
    {
     "data": {
      "text/plain": [
       "11"
      ]
     },
     "execution_count": 12,
     "metadata": {},
     "output_type": "execute_result"
    }
   ],
   "source": [
    "abs(11)"
   ]
  },
  {
   "cell_type": "code",
   "execution_count": 13,
   "id": "c578777f",
   "metadata": {},
   "outputs": [
    {
     "data": {
      "text/plain": [
       "12.43"
      ]
     },
     "execution_count": 13,
     "metadata": {},
     "output_type": "execute_result"
    }
   ],
   "source": [
    "abs(-12.43)"
   ]
  },
  {
   "cell_type": "code",
   "execution_count": 14,
   "id": "1512140f",
   "metadata": {},
   "outputs": [
    {
     "data": {
      "text/plain": [
       "True"
      ]
     },
     "execution_count": 14,
     "metadata": {},
     "output_type": "execute_result"
    }
   ],
   "source": [
    "bool(1)"
   ]
  },
  {
   "cell_type": "code",
   "execution_count": 15,
   "id": "fc7ed440",
   "metadata": {},
   "outputs": [
    {
     "data": {
      "text/plain": [
       "False"
      ]
     },
     "execution_count": 15,
     "metadata": {},
     "output_type": "execute_result"
    }
   ],
   "source": [
    "bool(0)"
   ]
  },
  {
   "cell_type": "code",
   "execution_count": 16,
   "id": "ce4bb5eb",
   "metadata": {},
   "outputs": [
    {
     "data": {
      "text/plain": [
       "(3+4j)"
      ]
     },
     "execution_count": 16,
     "metadata": {},
     "output_type": "execute_result"
    }
   ],
   "source": [
    "complex(3, 4)"
   ]
  },
  {
   "cell_type": "code",
   "execution_count": 17,
   "id": "217838a0",
   "metadata": {},
   "outputs": [],
   "source": [
    "x = dict(name = \"Ahmed\", age = 28)"
   ]
  },
  {
   "cell_type": "code",
   "execution_count": 18,
   "id": "db1ef9e0",
   "metadata": {},
   "outputs": [
    {
     "data": {
      "text/plain": [
       "{'name': 'Ahmed', 'age': 28}"
      ]
     },
     "execution_count": 18,
     "metadata": {},
     "output_type": "execute_result"
    }
   ],
   "source": [
    "x"
   ]
  },
  {
   "cell_type": "code",
   "execution_count": 19,
   "id": "4c472a83",
   "metadata": {},
   "outputs": [
    {
     "data": {
      "text/plain": [
       "['__class__',\n",
       " '__contains__',\n",
       " '__delattr__',\n",
       " '__delitem__',\n",
       " '__dir__',\n",
       " '__doc__',\n",
       " '__eq__',\n",
       " '__format__',\n",
       " '__ge__',\n",
       " '__getattribute__',\n",
       " '__getitem__',\n",
       " '__gt__',\n",
       " '__hash__',\n",
       " '__init__',\n",
       " '__init_subclass__',\n",
       " '__iter__',\n",
       " '__le__',\n",
       " '__len__',\n",
       " '__lt__',\n",
       " '__ne__',\n",
       " '__new__',\n",
       " '__reduce__',\n",
       " '__reduce_ex__',\n",
       " '__repr__',\n",
       " '__reversed__',\n",
       " '__setattr__',\n",
       " '__setitem__',\n",
       " '__sizeof__',\n",
       " '__str__',\n",
       " '__subclasshook__',\n",
       " 'clear',\n",
       " 'copy',\n",
       " 'fromkeys',\n",
       " 'get',\n",
       " 'items',\n",
       " 'keys',\n",
       " 'pop',\n",
       " 'popitem',\n",
       " 'setdefault',\n",
       " 'update',\n",
       " 'values']"
      ]
     },
     "execution_count": 19,
     "metadata": {},
     "output_type": "execute_result"
    }
   ],
   "source": [
    "dir(x)"
   ]
  },
  {
   "cell_type": "code",
   "execution_count": 21,
   "id": "0613b52c",
   "metadata": {},
   "outputs": [
    {
     "name": "stdout",
     "output_type": "stream",
     "text": [
      "Entered name: Ahmed\n"
     ]
    }
   ],
   "source": [
    "x = input(\"Entered name: \")"
   ]
  },
  {
   "cell_type": "code",
   "execution_count": 22,
   "id": "5b201ce2",
   "metadata": {},
   "outputs": [
    {
     "name": "stdout",
     "output_type": "stream",
     "text": [
      "Hi, Functions!\n"
     ]
    }
   ],
   "source": [
    "print(\"Hi, Functions!\")"
   ]
  },
  {
   "cell_type": "code",
   "execution_count": 27,
   "id": "4f4969ec",
   "metadata": {},
   "outputs": [
    {
     "data": {
      "text/plain": [
       "6"
      ]
     },
     "execution_count": 27,
     "metadata": {},
     "output_type": "execute_result"
    }
   ],
   "source": [
    "sum([1, 2, 3])"
   ]
  },
  {
   "cell_type": "code",
   "execution_count": 28,
   "id": "7f86c36c",
   "metadata": {},
   "outputs": [
    {
     "name": "stdout",
     "output_type": "stream",
     "text": [
      "[(1, 4), (2, 5), (3, 6)]\n"
     ]
    }
   ],
   "source": [
    "x = [1, 2, 3]\n",
    "y = [4, 5, 6]\n",
    "\n",
    "z = zip(x, y)\n",
    "print(list(z))"
   ]
  },
  {
   "cell_type": "markdown",
   "id": "fb6d722d",
   "metadata": {},
   "source": [
    "# User-Defined Functions"
   ]
  },
  {
   "cell_type": "code",
   "execution_count": 29,
   "id": "0708ce4d",
   "metadata": {},
   "outputs": [],
   "source": [
    "def addition(x, y):\n",
    "    \"Return the sum of x and y back to the caller\"\n",
    "    add = x + y\n",
    "    return add"
   ]
  },
  {
   "cell_type": "code",
   "execution_count": 30,
   "id": "ef33c81b",
   "metadata": {},
   "outputs": [
    {
     "data": {
      "text/plain": [
       "14"
      ]
     },
     "execution_count": 30,
     "metadata": {},
     "output_type": "execute_result"
    }
   ],
   "source": [
    "addition(10, 4)"
   ]
  },
  {
   "cell_type": "code",
   "execution_count": 31,
   "id": "67ef972a",
   "metadata": {},
   "outputs": [
    {
     "name": "stdout",
     "output_type": "stream",
     "text": [
      "50\n"
     ]
    }
   ],
   "source": [
    "print(addition(20, 30))"
   ]
  },
  {
   "cell_type": "code",
   "execution_count": 32,
   "id": "d23e5e7e",
   "metadata": {},
   "outputs": [
    {
     "name": "stdout",
     "output_type": "stream",
     "text": [
      "Help on function addition in module __main__:\n",
      "\n",
      "addition(x, y)\n",
      "    Return the sum of x and y back to the caller\n",
      "\n"
     ]
    }
   ],
   "source": [
    "help(addition)"
   ]
  },
  {
   "cell_type": "code",
   "execution_count": 51,
   "id": "85541d05",
   "metadata": {},
   "outputs": [],
   "source": [
    "# x = 20\n",
    "\n",
    "def new():\n",
    "    global x\n",
    "    x = 5\n",
    "    print(x)"
   ]
  },
  {
   "cell_type": "code",
   "execution_count": 52,
   "id": "46e1466e",
   "metadata": {},
   "outputs": [
    {
     "name": "stdout",
     "output_type": "stream",
     "text": [
      "5\n"
     ]
    }
   ],
   "source": [
    "new()"
   ]
  },
  {
   "cell_type": "code",
   "execution_count": 53,
   "id": "72601343",
   "metadata": {},
   "outputs": [
    {
     "name": "stdout",
     "output_type": "stream",
     "text": [
      "5\n"
     ]
    }
   ],
   "source": [
    "print(x)"
   ]
  },
  {
   "cell_type": "code",
   "execution_count": 57,
   "id": "65e1e920",
   "metadata": {},
   "outputs": [],
   "source": [
    "def new():\n",
    "    print(\"Hi, Programming!\")"
   ]
  },
  {
   "cell_type": "code",
   "execution_count": 58,
   "id": "bf08790a",
   "metadata": {},
   "outputs": [
    {
     "name": "stdout",
     "output_type": "stream",
     "text": [
      "Hi, Programming!\n"
     ]
    }
   ],
   "source": [
    "new()"
   ]
  },
  {
   "cell_type": "markdown",
   "id": "f693aa49",
   "metadata": {},
   "source": [
    "# Using break statement"
   ]
  },
  {
   "cell_type": "code",
   "execution_count": 1,
   "id": "09e97dc7",
   "metadata": {},
   "outputs": [
    {
     "name": "stdout",
     "output_type": "stream",
     "text": [
      "0\n",
      "1\n",
      "2\n",
      "The last number in the loop is 3\n"
     ]
    }
   ],
   "source": [
    "for x in range(0, 5):\n",
    "    if x == 3:\n",
    "        break\n",
    "    print(x)\n",
    "    \n",
    "print(f\"The last number in the loop is {x}\")"
   ]
  },
  {
   "cell_type": "markdown",
   "id": "f2f150fa",
   "metadata": {},
   "source": [
    "# Using continue statement"
   ]
  },
  {
   "cell_type": "code",
   "execution_count": 2,
   "id": "362f39ba",
   "metadata": {},
   "outputs": [
    {
     "name": "stdout",
     "output_type": "stream",
     "text": [
      "0\n",
      "1\n",
      "2\n",
      "4\n",
      "5\n",
      "6\n",
      "The last number in the loop is x = 6\n"
     ]
    }
   ],
   "source": [
    "for x in range(0, 7):\n",
    "    if x == 3:\n",
    "        continue\n",
    "    print(x)\n",
    "    \n",
    "print(f\"The last number in the loop is x = {x}\")"
   ]
  },
  {
   "cell_type": "markdown",
   "id": "5c6b6ceb",
   "metadata": {},
   "source": [
    "# Using for ... else"
   ]
  },
  {
   "cell_type": "code",
   "execution_count": 8,
   "id": "936991b5",
   "metadata": {},
   "outputs": [],
   "source": [
    "message = \"Python is so simple!\"\n",
    "\n",
    "for item in message:\n",
    "    if item == \"s\":\n",
    "        break\n",
    "        \n",
    "else:\n",
    "    print(\"There is no v!\")"
   ]
  },
  {
   "cell_type": "code",
   "execution_count": null,
   "id": "676a51b6",
   "metadata": {},
   "outputs": [],
   "source": []
  },
  {
   "cell_type": "markdown",
   "id": "d464bf90",
   "metadata": {},
   "source": [
    "# The Password Checking Example"
   ]
  },
  {
   "cell_type": "code",
   "execution_count": 7,
   "id": "2318821a",
   "metadata": {},
   "outputs": [
    {
     "name": "stdout",
     "output_type": "stream",
     "text": [
      "Enter Pass: 123\n",
      "Error, This is not correct ... Try again!\n",
      "Enter Pass: 234\n",
      "Error, This is not correct ... Try again!\n",
      "Enter Pass: 567\n",
      "Error, This is not correct ... Try again!\n",
      "Enter Pass: 3456\n",
      "Error, This is not correct ... Try again!\n",
      "The process is completed. Thanks!\n"
     ]
    }
   ],
   "source": [
    "for x in range(4):\n",
    "    password = input(\"Enter Pass: \")\n",
    "    if password == \"123#@2\":\n",
    "        break\n",
    "    print(\"Error, This is not correct ... Try again!\")\n",
    "else:\n",
    "    print(\"The process is completed. Thanks!\")"
   ]
  },
  {
   "cell_type": "code",
   "execution_count": null,
   "id": "867bb96b",
   "metadata": {},
   "outputs": [],
   "source": []
  }
 ],
 "metadata": {
  "kernelspec": {
   "display_name": "Python 3",
   "language": "python",
   "name": "python3"
  },
  "language_info": {
   "codemirror_mode": {
    "name": "ipython",
    "version": 3
   },
   "file_extension": ".py",
   "mimetype": "text/x-python",
   "name": "python",
   "nbconvert_exporter": "python",
   "pygments_lexer": "ipython3",
   "version": "3.8.8"
  }
 },
 "nbformat": 4,
 "nbformat_minor": 5
}
