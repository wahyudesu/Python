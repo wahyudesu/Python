{
 "cells": [
  {
   "cell_type": "code",
   "execution_count": 1,
   "id": "8cd039ba",
   "metadata": {},
   "outputs": [],
   "source": [
    "message = \"This is a comprehensive course!\""
   ]
  },
  {
   "cell_type": "code",
   "execution_count": 2,
   "id": "48e2768b",
   "metadata": {},
   "outputs": [
    {
     "name": "stdout",
     "output_type": "stream",
     "text": [
      "This is a comprehensive course!\n"
     ]
    }
   ],
   "source": [
    "print(message)"
   ]
  },
  {
   "cell_type": "code",
   "execution_count": 3,
   "id": "99713995",
   "metadata": {},
   "outputs": [],
   "source": [
    "x = 10\n",
    "y = 20.3\n",
    "z = 20 + 5j"
   ]
  },
  {
   "cell_type": "code",
   "execution_count": 4,
   "id": "ce7df9ef",
   "metadata": {},
   "outputs": [
    {
     "data": {
      "text/plain": [
       "10"
      ]
     },
     "execution_count": 4,
     "metadata": {},
     "output_type": "execute_result"
    }
   ],
   "source": [
    "x"
   ]
  },
  {
   "cell_type": "code",
   "execution_count": 5,
   "id": "d1034b9f",
   "metadata": {},
   "outputs": [
    {
     "data": {
      "text/plain": [
       "20.3"
      ]
     },
     "execution_count": 5,
     "metadata": {},
     "output_type": "execute_result"
    }
   ],
   "source": [
    "y"
   ]
  },
  {
   "cell_type": "code",
   "execution_count": 6,
   "id": "de1cbdb1",
   "metadata": {},
   "outputs": [
    {
     "data": {
      "text/plain": [
       "(20+5j)"
      ]
     },
     "execution_count": 6,
     "metadata": {},
     "output_type": "execute_result"
    }
   ],
   "source": [
    "z"
   ]
  },
  {
   "cell_type": "code",
   "execution_count": 7,
   "id": "8b6dcaa6",
   "metadata": {},
   "outputs": [],
   "source": [
    "test = True"
   ]
  },
  {
   "cell_type": "code",
   "execution_count": 8,
   "id": "2644a3d3",
   "metadata": {},
   "outputs": [
    {
     "data": {
      "text/plain": [
       "bool"
      ]
     },
     "execution_count": 8,
     "metadata": {},
     "output_type": "execute_result"
    }
   ],
   "source": [
    "type(test)"
   ]
  },
  {
   "cell_type": "code",
   "execution_count": 9,
   "id": "5654f897",
   "metadata": {},
   "outputs": [
    {
     "data": {
      "text/plain": [
       "int"
      ]
     },
     "execution_count": 9,
     "metadata": {},
     "output_type": "execute_result"
    }
   ],
   "source": [
    "type(1)"
   ]
  },
  {
   "cell_type": "code",
   "execution_count": 10,
   "id": "518242c5",
   "metadata": {},
   "outputs": [
    {
     "data": {
      "text/plain": [
       "float"
      ]
     },
     "execution_count": 10,
     "metadata": {},
     "output_type": "execute_result"
    }
   ],
   "source": [
    "type(2.5)"
   ]
  },
  {
   "cell_type": "code",
   "execution_count": 11,
   "id": "d29ca091",
   "metadata": {},
   "outputs": [
    {
     "data": {
      "text/plain": [
       "complex"
      ]
     },
     "execution_count": 11,
     "metadata": {},
     "output_type": "execute_result"
    }
   ],
   "source": [
    "type(3j)"
   ]
  },
  {
   "cell_type": "code",
   "execution_count": 12,
   "id": "1916844d",
   "metadata": {},
   "outputs": [
    {
     "data": {
      "text/plain": [
       "list"
      ]
     },
     "execution_count": 12,
     "metadata": {},
     "output_type": "execute_result"
    }
   ],
   "source": [
    "type([1, 2, 3])"
   ]
  },
  {
   "cell_type": "code",
   "execution_count": 13,
   "id": "fcd8cad3",
   "metadata": {},
   "outputs": [
    {
     "data": {
      "text/plain": [
       "str"
      ]
     },
     "execution_count": 13,
     "metadata": {},
     "output_type": "execute_result"
    }
   ],
   "source": [
    "type(message)"
   ]
  },
  {
   "cell_type": "code",
   "execution_count": 14,
   "id": "51f541c5",
   "metadata": {},
   "outputs": [
    {
     "data": {
      "text/plain": [
       "str"
      ]
     },
     "execution_count": 14,
     "metadata": {},
     "output_type": "execute_result"
    }
   ],
   "source": [
    "type(\"Hello, World\")"
   ]
  },
  {
   "cell_type": "code",
   "execution_count": 24,
   "id": "e388275c",
   "metadata": {},
   "outputs": [
    {
     "name": "stdout",
     "output_type": "stream",
     "text": [
      "Hi, Jupyter!\n"
     ]
    }
   ],
   "source": [
    "# Block single line comment\n",
    "\n",
    "text = \"Hi, Jupyter!\"\n",
    "print(text)"
   ]
  },
  {
   "cell_type": "code",
   "execution_count": 21,
   "id": "a493eda1",
   "metadata": {},
   "outputs": [
    {
     "name": "stdout",
     "output_type": "stream",
     "text": [
      "#This is not a comment\n"
     ]
    }
   ],
   "source": [
    "print(\"#This is not a comment\")   # But this is a comment"
   ]
  },
  {
   "cell_type": "code",
   "execution_count": 22,
   "id": "151341c9",
   "metadata": {},
   "outputs": [],
   "source": [
    "# First line of comment\n",
    "# Second Line of comment\n",
    "# Third line of comment"
   ]
  },
  {
   "cell_type": "code",
   "execution_count": 29,
   "id": "3cab6539",
   "metadata": {},
   "outputs": [
    {
     "name": "stdout",
     "output_type": "stream",
     "text": [
      "Hello, World!\n"
     ]
    }
   ],
   "source": [
    "if True:\n",
    "    print(\"Hello, World!\")"
   ]
  },
  {
   "cell_type": "markdown",
   "id": "8f99d11e",
   "metadata": {},
   "source": [
    "# String Data Type"
   ]
  },
  {
   "cell_type": "code",
   "execution_count": 30,
   "id": "4b764d3d",
   "metadata": {},
   "outputs": [
    {
     "data": {
      "text/plain": [
       "str"
      ]
     },
     "execution_count": 30,
     "metadata": {},
     "output_type": "execute_result"
    }
   ],
   "source": [
    "type(\"Welcome to Jupyter\")"
   ]
  },
  {
   "cell_type": "code",
   "execution_count": 31,
   "id": "299a810e",
   "metadata": {},
   "outputs": [],
   "source": [
    "name = \"Python Data Analysis and Visualization\""
   ]
  },
  {
   "cell_type": "code",
   "execution_count": 32,
   "id": "e12541d2",
   "metadata": {},
   "outputs": [
    {
     "data": {
      "text/plain": [
       "str"
      ]
     },
     "execution_count": 32,
     "metadata": {},
     "output_type": "execute_result"
    }
   ],
   "source": [
    "type(name)"
   ]
  },
  {
   "cell_type": "code",
   "execution_count": 33,
   "id": "47848acc",
   "metadata": {},
   "outputs": [],
   "source": [
    "mix = \"Hi number 123\""
   ]
  },
  {
   "cell_type": "code",
   "execution_count": 34,
   "id": "0905becf",
   "metadata": {},
   "outputs": [
    {
     "data": {
      "text/plain": [
       "str"
      ]
     },
     "execution_count": 34,
     "metadata": {},
     "output_type": "execute_result"
    }
   ],
   "source": [
    "type(mix)"
   ]
  },
  {
   "cell_type": "code",
   "execution_count": 35,
   "id": "17a17e98",
   "metadata": {},
   "outputs": [],
   "source": [
    "new_str = \"We said that 'Python is powerful'\""
   ]
  },
  {
   "cell_type": "code",
   "execution_count": 36,
   "id": "f7e99a00",
   "metadata": {},
   "outputs": [
    {
     "data": {
      "text/plain": [
       "\"We said that 'Python is powerful'\""
      ]
     },
     "execution_count": 36,
     "metadata": {},
     "output_type": "execute_result"
    }
   ],
   "source": [
    "new_str"
   ]
  },
  {
   "cell_type": "code",
   "execution_count": 38,
   "id": "fa3ac315",
   "metadata": {},
   "outputs": [],
   "source": [
    "new_str1 = \"We said that \\\"Python is powerful\\\"\""
   ]
  },
  {
   "cell_type": "code",
   "execution_count": 39,
   "id": "041301a3",
   "metadata": {},
   "outputs": [
    {
     "data": {
      "text/plain": [
       "'We said that \"Python is powerful\"'"
      ]
     },
     "execution_count": 39,
     "metadata": {},
     "output_type": "execute_result"
    }
   ],
   "source": [
    "new_str1"
   ]
  },
  {
   "cell_type": "code",
   "execution_count": 40,
   "id": "23e636f4",
   "metadata": {},
   "outputs": [
    {
     "data": {
      "text/plain": [
       "33"
      ]
     },
     "execution_count": 40,
     "metadata": {},
     "output_type": "execute_result"
    }
   ],
   "source": [
    "len(new_str1)"
   ]
  },
  {
   "cell_type": "code",
   "execution_count": 41,
   "id": "8bcf1fea",
   "metadata": {},
   "outputs": [
    {
     "data": {
      "text/plain": [
       "'W'"
      ]
     },
     "execution_count": 41,
     "metadata": {},
     "output_type": "execute_result"
    }
   ],
   "source": [
    "new_str1[0]"
   ]
  },
  {
   "cell_type": "code",
   "execution_count": 42,
   "id": "680b1584",
   "metadata": {},
   "outputs": [
    {
     "data": {
      "text/plain": [
       "'e'"
      ]
     },
     "execution_count": 42,
     "metadata": {},
     "output_type": "execute_result"
    }
   ],
   "source": [
    "new_str1[1]"
   ]
  },
  {
   "cell_type": "code",
   "execution_count": 50,
   "id": "4213acf3",
   "metadata": {},
   "outputs": [],
   "source": [
    "new_multiple = \"This is a multiple line string data \\\n",
    "in python programming. \\\n",
    "It's a very easy way as you can see!\""
   ]
  },
  {
   "cell_type": "code",
   "execution_count": 51,
   "id": "8fe2146e",
   "metadata": {},
   "outputs": [
    {
     "data": {
      "text/plain": [
       "\"This is a multiple line string data in python programming. It's a very easy way as you can see!\""
      ]
     },
     "execution_count": 51,
     "metadata": {},
     "output_type": "execute_result"
    }
   ],
   "source": [
    "new_multiple"
   ]
  },
  {
   "cell_type": "code",
   "execution_count": 52,
   "id": "2df8365f",
   "metadata": {},
   "outputs": [],
   "source": [
    "new_multiple1 = \"\"\"Another way to create multiple line string\n",
    "for multiple line text paragraph\n",
    "It's easy also!\"\"\""
   ]
  },
  {
   "cell_type": "code",
   "execution_count": 53,
   "id": "d2e2724c",
   "metadata": {},
   "outputs": [
    {
     "data": {
      "text/plain": [
       "\"Another way to create multiple line string\\nfor multiple line text paragraph\\nIt's easy also!\""
      ]
     },
     "execution_count": 53,
     "metadata": {},
     "output_type": "execute_result"
    }
   ],
   "source": [
    "new_multiple1"
   ]
  },
  {
   "cell_type": "code",
   "execution_count": 54,
   "id": "deb04df7",
   "metadata": {},
   "outputs": [],
   "source": [
    "word1 = \"Python\"\n",
    "word2 = \"Programming\"\n",
    "fullText = word1 + \" \" + word2"
   ]
  },
  {
   "cell_type": "code",
   "execution_count": 55,
   "id": "7e9721a8",
   "metadata": {},
   "outputs": [
    {
     "data": {
      "text/plain": [
       "'Python Programming'"
      ]
     },
     "execution_count": 55,
     "metadata": {},
     "output_type": "execute_result"
    }
   ],
   "source": [
    "fullText"
   ]
  },
  {
   "cell_type": "code",
   "execution_count": 56,
   "id": "a59293d0",
   "metadata": {},
   "outputs": [
    {
     "data": {
      "text/plain": [
       "'Pyth'"
      ]
     },
     "execution_count": 56,
     "metadata": {},
     "output_type": "execute_result"
    }
   ],
   "source": [
    "fullText[0:4]"
   ]
  },
  {
   "cell_type": "code",
   "execution_count": 57,
   "id": "95188655",
   "metadata": {},
   "outputs": [
    {
     "data": {
      "text/plain": [
       "'g'"
      ]
     },
     "execution_count": 57,
     "metadata": {},
     "output_type": "execute_result"
    }
   ],
   "source": [
    "fullText[-1]"
   ]
  },
  {
   "cell_type": "code",
   "execution_count": 58,
   "id": "1c184fc1",
   "metadata": {},
   "outputs": [
    {
     "data": {
      "text/plain": [
       "'Python '"
      ]
     },
     "execution_count": 58,
     "metadata": {},
     "output_type": "execute_result"
    }
   ],
   "source": [
    "fullText[:7]"
   ]
  },
  {
   "cell_type": "code",
   "execution_count": 59,
   "id": "dd9aad8d",
   "metadata": {},
   "outputs": [
    {
     "data": {
      "text/plain": [
       "'Programming'"
      ]
     },
     "execution_count": 59,
     "metadata": {},
     "output_type": "execute_result"
    }
   ],
   "source": [
    "fullText[7:]"
   ]
  },
  {
   "cell_type": "code",
   "execution_count": 60,
   "id": "d3aa6258",
   "metadata": {},
   "outputs": [
    {
     "data": {
      "text/plain": [
       "'PYTHON PROGRAMMING'"
      ]
     },
     "execution_count": 60,
     "metadata": {},
     "output_type": "execute_result"
    }
   ],
   "source": [
    "fullText.upper()"
   ]
  },
  {
   "cell_type": "code",
   "execution_count": 61,
   "id": "93e444fd",
   "metadata": {},
   "outputs": [
    {
     "data": {
      "text/plain": [
       "'python programming'"
      ]
     },
     "execution_count": 61,
     "metadata": {},
     "output_type": "execute_result"
    }
   ],
   "source": [
    "fullText.lower()"
   ]
  },
  {
   "cell_type": "code",
   "execution_count": 62,
   "id": "cd6602e8",
   "metadata": {},
   "outputs": [
    {
     "data": {
      "text/plain": [
       "18"
      ]
     },
     "execution_count": 62,
     "metadata": {},
     "output_type": "execute_result"
    }
   ],
   "source": [
    "len(fullText)"
   ]
  },
  {
   "cell_type": "code",
   "execution_count": 63,
   "id": "0c9eb027",
   "metadata": {},
   "outputs": [
    {
     "data": {
      "text/plain": [
       "'Python Programming'"
      ]
     },
     "execution_count": 63,
     "metadata": {},
     "output_type": "execute_result"
    }
   ],
   "source": [
    "fullText.strip()"
   ]
  },
  {
   "cell_type": "markdown",
   "id": "dfcfc55a",
   "metadata": {},
   "source": [
    "# Numbers and Math operations"
   ]
  },
  {
   "cell_type": "code",
   "execution_count": 64,
   "id": "46410ae9",
   "metadata": {},
   "outputs": [],
   "source": [
    "x = 10"
   ]
  },
  {
   "cell_type": "code",
   "execution_count": 65,
   "id": "f75b9d6c",
   "metadata": {},
   "outputs": [
    {
     "data": {
      "text/plain": [
       "int"
      ]
     },
     "execution_count": 65,
     "metadata": {},
     "output_type": "execute_result"
    }
   ],
   "source": [
    "type(x)"
   ]
  },
  {
   "cell_type": "code",
   "execution_count": 66,
   "id": "74402fcf",
   "metadata": {},
   "outputs": [
    {
     "data": {
      "text/plain": [
       "10"
      ]
     },
     "execution_count": 66,
     "metadata": {},
     "output_type": "execute_result"
    }
   ],
   "source": [
    "int(x)"
   ]
  },
  {
   "cell_type": "code",
   "execution_count": 67,
   "id": "c8925a3b",
   "metadata": {},
   "outputs": [],
   "source": [
    "y = \"11\""
   ]
  },
  {
   "cell_type": "code",
   "execution_count": 72,
   "id": "a286de26",
   "metadata": {},
   "outputs": [
    {
     "data": {
      "text/plain": [
       "2"
      ]
     },
     "execution_count": 72,
     "metadata": {},
     "output_type": "execute_result"
    }
   ],
   "source": [
    "int(\"2\")"
   ]
  },
  {
   "cell_type": "code",
   "execution_count": 73,
   "id": "66f06b02",
   "metadata": {},
   "outputs": [
    {
     "data": {
      "text/plain": [
       "3"
      ]
     },
     "execution_count": 73,
     "metadata": {},
     "output_type": "execute_result"
    }
   ],
   "source": [
    "int(3.5)"
   ]
  },
  {
   "cell_type": "code",
   "execution_count": 74,
   "id": "26d57962",
   "metadata": {},
   "outputs": [],
   "source": [
    "x = 4.9"
   ]
  },
  {
   "cell_type": "code",
   "execution_count": 75,
   "id": "2fca1df8",
   "metadata": {},
   "outputs": [
    {
     "data": {
      "text/plain": [
       "float"
      ]
     },
     "execution_count": 75,
     "metadata": {},
     "output_type": "execute_result"
    }
   ],
   "source": [
    "type(x)"
   ]
  },
  {
   "cell_type": "code",
   "execution_count": 76,
   "id": "d5d4d309",
   "metadata": {},
   "outputs": [
    {
     "data": {
      "text/plain": [
       "11.0"
      ]
     },
     "execution_count": 76,
     "metadata": {},
     "output_type": "execute_result"
    }
   ],
   "source": [
    "float(y)"
   ]
  },
  {
   "cell_type": "code",
   "execution_count": 77,
   "id": "e74e7605",
   "metadata": {},
   "outputs": [
    {
     "data": {
      "text/plain": [
       "23.0"
      ]
     },
     "execution_count": 77,
     "metadata": {},
     "output_type": "execute_result"
    }
   ],
   "source": [
    "float(23)"
   ]
  },
  {
   "cell_type": "code",
   "execution_count": 78,
   "id": "43edb4a9",
   "metadata": {},
   "outputs": [
    {
     "data": {
      "text/plain": [
       "3.1"
      ]
     },
     "execution_count": 78,
     "metadata": {},
     "output_type": "execute_result"
    }
   ],
   "source": [
    "float(\"3.1\")"
   ]
  },
  {
   "cell_type": "code",
   "execution_count": 79,
   "id": "abef77ee",
   "metadata": {},
   "outputs": [],
   "source": [
    "z = 3e+19"
   ]
  },
  {
   "cell_type": "code",
   "execution_count": 80,
   "id": "1a70dbba",
   "metadata": {},
   "outputs": [
    {
     "data": {
      "text/plain": [
       "float"
      ]
     },
     "execution_count": 80,
     "metadata": {},
     "output_type": "execute_result"
    }
   ],
   "source": [
    "type(z)"
   ]
  },
  {
   "cell_type": "code",
   "execution_count": 81,
   "id": "e55c80cd",
   "metadata": {},
   "outputs": [
    {
     "data": {
      "text/plain": [
       "3e+19"
      ]
     },
     "execution_count": 81,
     "metadata": {},
     "output_type": "execute_result"
    }
   ],
   "source": [
    "float(z)"
   ]
  },
  {
   "cell_type": "code",
   "execution_count": 82,
   "id": "21e6b67f",
   "metadata": {},
   "outputs": [],
   "source": [
    "w = 9 - 7j"
   ]
  },
  {
   "cell_type": "code",
   "execution_count": 83,
   "id": "f232c04f",
   "metadata": {},
   "outputs": [
    {
     "data": {
      "text/plain": [
       "complex"
      ]
     },
     "execution_count": 83,
     "metadata": {},
     "output_type": "execute_result"
    }
   ],
   "source": [
    "type(w)"
   ]
  },
  {
   "cell_type": "code",
   "execution_count": 84,
   "id": "a182a20b",
   "metadata": {},
   "outputs": [
    {
     "data": {
      "text/plain": [
       "(9-7j)"
      ]
     },
     "execution_count": 84,
     "metadata": {},
     "output_type": "execute_result"
    }
   ],
   "source": [
    "complex(w)"
   ]
  },
  {
   "cell_type": "code",
   "execution_count": 85,
   "id": "7740c8e2",
   "metadata": {},
   "outputs": [
    {
     "data": {
      "text/plain": [
       "(38+0j)"
      ]
     },
     "execution_count": 85,
     "metadata": {},
     "output_type": "execute_result"
    }
   ],
   "source": [
    "complex(38)"
   ]
  },
  {
   "cell_type": "code",
   "execution_count": 86,
   "id": "92e5c20e",
   "metadata": {},
   "outputs": [
    {
     "data": {
      "text/plain": [
       "65"
      ]
     },
     "execution_count": 86,
     "metadata": {},
     "output_type": "execute_result"
    }
   ],
   "source": [
    "10 + 55"
   ]
  },
  {
   "cell_type": "code",
   "execution_count": 87,
   "id": "6c30c931",
   "metadata": {},
   "outputs": [
    {
     "data": {
      "text/plain": [
       "94"
      ]
     },
     "execution_count": 87,
     "metadata": {},
     "output_type": "execute_result"
    }
   ],
   "source": [
    "99 - 5"
   ]
  },
  {
   "cell_type": "code",
   "execution_count": 88,
   "id": "ac3023e0",
   "metadata": {},
   "outputs": [
    {
     "data": {
      "text/plain": [
       "24"
      ]
     },
     "execution_count": 88,
     "metadata": {},
     "output_type": "execute_result"
    }
   ],
   "source": [
    "8 * 3"
   ]
  },
  {
   "cell_type": "code",
   "execution_count": 90,
   "id": "a1360dad",
   "metadata": {},
   "outputs": [
    {
     "data": {
      "text/plain": [
       "6.0"
      ]
     },
     "execution_count": 90,
     "metadata": {},
     "output_type": "execute_result"
    }
   ],
   "source": [
    "12 / 2"
   ]
  },
  {
   "cell_type": "code",
   "execution_count": 91,
   "id": "dae0eaaa",
   "metadata": {},
   "outputs": [
    {
     "data": {
      "text/plain": [
       "6"
      ]
     },
     "execution_count": 91,
     "metadata": {},
     "output_type": "execute_result"
    }
   ],
   "source": [
    "12 // 2"
   ]
  },
  {
   "cell_type": "code",
   "execution_count": 92,
   "id": "02f782a8",
   "metadata": {},
   "outputs": [
    {
     "data": {
      "text/plain": [
       "4"
      ]
     },
     "execution_count": 92,
     "metadata": {},
     "output_type": "execute_result"
    }
   ],
   "source": [
    "2 ** 2"
   ]
  },
  {
   "cell_type": "code",
   "execution_count": 93,
   "id": "1840b332",
   "metadata": {},
   "outputs": [
    {
     "data": {
      "text/plain": [
       "64"
      ]
     },
     "execution_count": 93,
     "metadata": {},
     "output_type": "execute_result"
    }
   ],
   "source": [
    "8 ** 2"
   ]
  },
  {
   "cell_type": "code",
   "execution_count": 94,
   "id": "722722da",
   "metadata": {},
   "outputs": [
    {
     "data": {
      "text/plain": [
       "2"
      ]
     },
     "execution_count": 94,
     "metadata": {},
     "output_type": "execute_result"
    }
   ],
   "source": [
    "11 % 3"
   ]
  },
  {
   "cell_type": "code",
   "execution_count": 95,
   "id": "8e6c6274",
   "metadata": {},
   "outputs": [
    {
     "data": {
      "text/plain": [
       "0"
      ]
     },
     "execution_count": 95,
     "metadata": {},
     "output_type": "execute_result"
    }
   ],
   "source": [
    "12 % 3"
   ]
  },
  {
   "cell_type": "code",
   "execution_count": 96,
   "id": "676b6ace",
   "metadata": {},
   "outputs": [
    {
     "data": {
      "text/plain": [
       "1"
      ]
     },
     "execution_count": 96,
     "metadata": {},
     "output_type": "execute_result"
    }
   ],
   "source": [
    "13 % 3"
   ]
  },
  {
   "cell_type": "code",
   "execution_count": 97,
   "id": "a687d99c",
   "metadata": {},
   "outputs": [
    {
     "ename": "ZeroDivisionError",
     "evalue": "integer division or modulo by zero",
     "output_type": "error",
     "traceback": [
      "\u001b[1;31m---------------------------------------------------------------------------\u001b[0m",
      "\u001b[1;31mZeroDivisionError\u001b[0m                         Traceback (most recent call last)",
      "\u001b[1;32m<ipython-input-97-0e03bab35cd5>\u001b[0m in \u001b[0;36m<module>\u001b[1;34m\u001b[0m\n\u001b[1;32m----> 1\u001b[1;33m \u001b[1;36m1\u001b[0m \u001b[1;33m%\u001b[0m \u001b[1;36m0\u001b[0m\u001b[1;33m\u001b[0m\u001b[1;33m\u001b[0m\u001b[0m\n\u001b[0m",
      "\u001b[1;31mZeroDivisionError\u001b[0m: integer division or modulo by zero"
     ]
    }
   ],
   "source": [
    "1 % 0"
   ]
  },
  {
   "cell_type": "code",
   "execution_count": 98,
   "id": "ce2ed9f6",
   "metadata": {},
   "outputs": [
    {
     "ename": "ZeroDivisionError",
     "evalue": "division by zero",
     "output_type": "error",
     "traceback": [
      "\u001b[1;31m---------------------------------------------------------------------------\u001b[0m",
      "\u001b[1;31mZeroDivisionError\u001b[0m                         Traceback (most recent call last)",
      "\u001b[1;32m<ipython-input-98-bc757c3fda29>\u001b[0m in \u001b[0;36m<module>\u001b[1;34m\u001b[0m\n\u001b[1;32m----> 1\u001b[1;33m \u001b[1;36m1\u001b[0m \u001b[1;33m/\u001b[0m \u001b[1;36m0\u001b[0m\u001b[1;33m\u001b[0m\u001b[1;33m\u001b[0m\u001b[0m\n\u001b[0m",
      "\u001b[1;31mZeroDivisionError\u001b[0m: division by zero"
     ]
    }
   ],
   "source": [
    "1 / 0"
   ]
  },
  {
   "cell_type": "code",
   "execution_count": 99,
   "id": "19794478",
   "metadata": {},
   "outputs": [
    {
     "ename": "ZeroDivisionError",
     "evalue": "integer division or modulo by zero",
     "output_type": "error",
     "traceback": [
      "\u001b[1;31m---------------------------------------------------------------------------\u001b[0m",
      "\u001b[1;31mZeroDivisionError\u001b[0m                         Traceback (most recent call last)",
      "\u001b[1;32m<ipython-input-99-7fc8a4784866>\u001b[0m in \u001b[0;36m<module>\u001b[1;34m\u001b[0m\n\u001b[1;32m----> 1\u001b[1;33m \u001b[1;36m1\u001b[0m \u001b[1;33m//\u001b[0m \u001b[1;36m0\u001b[0m\u001b[1;33m\u001b[0m\u001b[1;33m\u001b[0m\u001b[0m\n\u001b[0m",
      "\u001b[1;31mZeroDivisionError\u001b[0m: integer division or modulo by zero"
     ]
    }
   ],
   "source": [
    "1 // 0"
   ]
  },
  {
   "cell_type": "code",
   "execution_count": 100,
   "id": "9b83f373",
   "metadata": {},
   "outputs": [
    {
     "data": {
      "text/plain": [
       "16.714285714285715"
      ]
     },
     "execution_count": 100,
     "metadata": {},
     "output_type": "execute_result"
    }
   ],
   "source": [
    "2 * 10 - 5 + (12 / 7)"
   ]
  },
  {
   "cell_type": "code",
   "execution_count": 101,
   "id": "29226897",
   "metadata": {},
   "outputs": [
    {
     "data": {
      "text/plain": [
       "-199.31"
      ]
     },
     "execution_count": 101,
     "metadata": {},
     "output_type": "execute_result"
    }
   ],
   "source": [
    "0.7 - 11.3 * (12 + 5.7)"
   ]
  },
  {
   "cell_type": "code",
   "execution_count": 102,
   "id": "c81e2cab",
   "metadata": {},
   "outputs": [
    {
     "data": {
      "text/plain": [
       "8"
      ]
     },
     "execution_count": 102,
     "metadata": {},
     "output_type": "execute_result"
    }
   ],
   "source": [
    "pow(2, 3)"
   ]
  },
  {
   "cell_type": "code",
   "execution_count": 103,
   "id": "2907d873",
   "metadata": {},
   "outputs": [
    {
     "data": {
      "text/plain": [
       "4"
      ]
     },
     "execution_count": 103,
     "metadata": {},
     "output_type": "execute_result"
    }
   ],
   "source": [
    "round(4.2)"
   ]
  },
  {
   "cell_type": "code",
   "execution_count": 104,
   "id": "9c379975",
   "metadata": {},
   "outputs": [
    {
     "data": {
      "text/plain": [
       "4"
      ]
     },
     "execution_count": 104,
     "metadata": {},
     "output_type": "execute_result"
    }
   ],
   "source": [
    "round(4.5)"
   ]
  },
  {
   "cell_type": "code",
   "execution_count": 105,
   "id": "98539495",
   "metadata": {},
   "outputs": [
    {
     "data": {
      "text/plain": [
       "5"
      ]
     },
     "execution_count": 105,
     "metadata": {},
     "output_type": "execute_result"
    }
   ],
   "source": [
    "round(4.55)"
   ]
  },
  {
   "cell_type": "code",
   "execution_count": 106,
   "id": "7970a926",
   "metadata": {},
   "outputs": [],
   "source": [
    "x = 9.21"
   ]
  },
  {
   "cell_type": "code",
   "execution_count": 109,
   "id": "09a36195",
   "metadata": {},
   "outputs": [
    {
     "name": "stdout",
     "output_type": "stream",
     "text": [
      "We are printing the value of x which is 9.2\n"
     ]
    }
   ],
   "source": [
    "print(f\"We are printing the value of x which is {x:.1f}\")"
   ]
  },
  {
   "cell_type": "markdown",
   "id": "a5d7cd89",
   "metadata": {},
   "source": [
    "# Taking input from users"
   ]
  },
  {
   "cell_type": "code",
   "execution_count": 6,
   "id": "4c358aac",
   "metadata": {},
   "outputs": [
    {
     "name": "stdout",
     "output_type": "stream",
     "text": [
      "Enter a number here: 11\n",
      "11\n"
     ]
    }
   ],
   "source": [
    "num = int(input(\"Enter a number here: \"))\n",
    "print(num)"
   ]
  },
  {
   "cell_type": "code",
   "execution_count": 7,
   "id": "61afeb0c",
   "metadata": {},
   "outputs": [
    {
     "name": "stdout",
     "output_type": "stream",
     "text": [
      "Enter a name here: Ahmed\n",
      "Ahmed\n"
     ]
    }
   ],
   "source": [
    "name = input(\"Enter a name here: \")\n",
    "print(name)"
   ]
  },
  {
   "cell_type": "code",
   "execution_count": 8,
   "id": "706c7729",
   "metadata": {},
   "outputs": [
    {
     "data": {
      "text/plain": [
       "int"
      ]
     },
     "execution_count": 8,
     "metadata": {},
     "output_type": "execute_result"
    }
   ],
   "source": [
    "type(num)"
   ]
  },
  {
   "cell_type": "code",
   "execution_count": 9,
   "id": "a5cb5277",
   "metadata": {},
   "outputs": [
    {
     "data": {
      "text/plain": [
       "str"
      ]
     },
     "execution_count": 9,
     "metadata": {},
     "output_type": "execute_result"
    }
   ],
   "source": [
    "type(name)"
   ]
  },
  {
   "cell_type": "code",
   "execution_count": 10,
   "id": "5479235a",
   "metadata": {},
   "outputs": [
    {
     "name": "stdout",
     "output_type": "stream",
     "text": [
      "The printed name is Ahmed\n"
     ]
    }
   ],
   "source": [
    "print(\"The printed name is\", name)"
   ]
  },
  {
   "cell_type": "code",
   "execution_count": null,
   "id": "eaf2c3c9",
   "metadata": {},
   "outputs": [],
   "source": []
  }
 ],
 "metadata": {
  "kernelspec": {
   "display_name": "Python 3",
   "language": "python",
   "name": "python3"
  },
  "language_info": {
   "codemirror_mode": {
    "name": "ipython",
    "version": 3
   },
   "file_extension": ".py",
   "mimetype": "text/x-python",
   "name": "python",
   "nbconvert_exporter": "python",
   "pygments_lexer": "ipython3",
   "version": "3.8.8"
  }
 },
 "nbformat": 4,
 "nbformat_minor": 5
}
