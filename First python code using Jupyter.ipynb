{
 "cells": [
  {
   "cell_type": "markdown",
   "id": "f1c3b7bb",
   "metadata": {},
   "source": [
    "# Using print() to display messages"
   ]
  },
  {
   "cell_type": "code",
   "execution_count": 1,
   "id": "c35adef6",
   "metadata": {},
   "outputs": [
    {
     "name": "stdout",
     "output_type": "stream",
     "text": [
      "Hi, welcome to this Python Data analysis and visualization course\n"
     ]
    }
   ],
   "source": [
    "print(\"Hi, welcome to this Python Data analysis and visualization course\")"
   ]
  },
  {
   "cell_type": "code",
   "execution_count": 2,
   "id": "86c76b84",
   "metadata": {},
   "outputs": [
    {
     "name": "stdout",
     "output_type": "stream",
     "text": [
      "First message\n",
      "Second message\n",
      "Third message\n"
     ]
    }
   ],
   "source": [
    "print(\"First message\")\n",
    "print(\"Second message\")\n",
    "print(\"Third message\")"
   ]
  },
  {
   "cell_type": "code",
   "execution_count": 3,
   "id": "2ea51899",
   "metadata": {},
   "outputs": [],
   "source": [
    "x = \"Hello, World!\""
   ]
  },
  {
   "cell_type": "code",
   "execution_count": 4,
   "id": "3bf22c58",
   "metadata": {},
   "outputs": [
    {
     "name": "stdout",
     "output_type": "stream",
     "text": [
      "Hello, World!\n"
     ]
    }
   ],
   "source": [
    "print(x)"
   ]
  },
  {
   "cell_type": "code",
   "execution_count": 5,
   "id": "ca2dcdcd",
   "metadata": {},
   "outputs": [
    {
     "data": {
      "text/plain": [
       "'Hello, World!'"
      ]
     },
     "execution_count": 5,
     "metadata": {},
     "output_type": "execute_result"
    }
   ],
   "source": [
    "x"
   ]
  },
  {
   "cell_type": "code",
   "execution_count": 6,
   "id": "c4039d82",
   "metadata": {},
   "outputs": [],
   "source": [
    "import numpy as np\n",
    "import matplotlib.pyplot as plt\n",
    "import pandas as pd"
   ]
  },
  {
   "cell_type": "code",
   "execution_count": 7,
   "id": "48c058e5",
   "metadata": {},
   "outputs": [
    {
     "data": {
      "text/plain": [
       "array([0, 1, 2, 3, 4, 5, 6])"
      ]
     },
     "execution_count": 7,
     "metadata": {},
     "output_type": "execute_result"
    }
   ],
   "source": [
    "np.arange(7)"
   ]
  },
  {
   "cell_type": "code",
   "execution_count": null,
   "id": "bb379e62",
   "metadata": {},
   "outputs": [],
   "source": []
  }
 ],
 "metadata": {
  "kernelspec": {
   "display_name": "Python 3",
   "language": "python",
   "name": "python3"
  },
  "language_info": {
   "codemirror_mode": {
    "name": "ipython",
    "version": 3
   },
   "file_extension": ".py",
   "mimetype": "text/x-python",
   "name": "python",
   "nbconvert_exporter": "python",
   "pygments_lexer": "ipython3",
   "version": "3.8.8"
  }
 },
 "nbformat": 4,
 "nbformat_minor": 5
}
