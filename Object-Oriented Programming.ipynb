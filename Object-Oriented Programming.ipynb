{
 "cells": [
  {
   "cell_type": "code",
   "execution_count": 1,
   "id": "b0cf0bb1",
   "metadata": {},
   "outputs": [],
   "source": [
    "class Car:\n",
    "    pass"
   ]
  },
  {
   "cell_type": "code",
   "execution_count": 2,
   "id": "c1039115",
   "metadata": {},
   "outputs": [],
   "source": [
    "model1 = Car()"
   ]
  },
  {
   "cell_type": "code",
   "execution_count": 3,
   "id": "b9cd24eb",
   "metadata": {},
   "outputs": [],
   "source": [
    "class Car:\n",
    "    color = \"black\""
   ]
  },
  {
   "cell_type": "code",
   "execution_count": 4,
   "id": "2eb8317c",
   "metadata": {},
   "outputs": [],
   "source": [
    "model1 = Car()"
   ]
  },
  {
   "cell_type": "code",
   "execution_count": 6,
   "id": "3bbc0b7a",
   "metadata": {},
   "outputs": [
    {
     "name": "stdout",
     "output_type": "stream",
     "text": [
      "black\n"
     ]
    }
   ],
   "source": [
    "print(model1.color)"
   ]
  },
  {
   "cell_type": "code",
   "execution_count": 7,
   "id": "72be0f70",
   "metadata": {},
   "outputs": [],
   "source": [
    "class Car:\n",
    "    def __init__(self, name, color):\n",
    "        self.name = name\n",
    "        self.color = color"
   ]
  },
  {
   "cell_type": "code",
   "execution_count": 8,
   "id": "984a2890",
   "metadata": {},
   "outputs": [],
   "source": [
    "model1 = Car(\"A1\", \"Black\")"
   ]
  },
  {
   "cell_type": "code",
   "execution_count": 9,
   "id": "bd2aed05",
   "metadata": {},
   "outputs": [
    {
     "name": "stdout",
     "output_type": "stream",
     "text": [
      "A1\n",
      "Black\n"
     ]
    }
   ],
   "source": [
    "print(model1.name)\n",
    "print(model1.color)"
   ]
  },
  {
   "cell_type": "code",
   "execution_count": 17,
   "id": "47e7ef83",
   "metadata": {},
   "outputs": [],
   "source": [
    "class Car:\n",
    "    def __init__(self, name, color):\n",
    "        self.name = name\n",
    "        self.color = color\n",
    "    def message(self):\n",
    "        print(\"The car name is \" + self.name)"
   ]
  },
  {
   "cell_type": "code",
   "execution_count": 18,
   "id": "e59c7e96",
   "metadata": {},
   "outputs": [],
   "source": [
    "model1 = Car(\"A1\", \"White\")"
   ]
  },
  {
   "cell_type": "code",
   "execution_count": 19,
   "id": "9e163e0c",
   "metadata": {},
   "outputs": [
    {
     "name": "stdout",
     "output_type": "stream",
     "text": [
      "The car name is A1\n"
     ]
    }
   ],
   "source": [
    "model1.message()"
   ]
  },
  {
   "cell_type": "code",
   "execution_count": 20,
   "id": "e592f982",
   "metadata": {},
   "outputs": [],
   "source": [
    "model1.color = \"Red\""
   ]
  },
  {
   "cell_type": "code",
   "execution_count": 21,
   "id": "70833ae0",
   "metadata": {},
   "outputs": [
    {
     "name": "stdout",
     "output_type": "stream",
     "text": [
      "Red\n"
     ]
    }
   ],
   "source": [
    "print(model1.color)"
   ]
  },
  {
   "cell_type": "code",
   "execution_count": 16,
   "id": "6d165182",
   "metadata": {},
   "outputs": [],
   "source": [
    "# del model1.color"
   ]
  },
  {
   "cell_type": "code",
   "execution_count": 22,
   "id": "81b08b6e",
   "metadata": {},
   "outputs": [],
   "source": [
    "# del model1"
   ]
  },
  {
   "cell_type": "code",
   "execution_count": 23,
   "id": "09a159b0",
   "metadata": {},
   "outputs": [],
   "source": [
    "class Car:\n",
    "    def __init__(self, name, color):\n",
    "        self.name = name\n",
    "        self.color = color\n",
    "    def message(self):\n",
    "        print(self.name, self.color)"
   ]
  },
  {
   "cell_type": "code",
   "execution_count": 24,
   "id": "d0a164e7",
   "metadata": {},
   "outputs": [],
   "source": [
    "model1 = Car(\"X1\", \"White\")"
   ]
  },
  {
   "cell_type": "code",
   "execution_count": 25,
   "id": "051b855b",
   "metadata": {},
   "outputs": [
    {
     "name": "stdout",
     "output_type": "stream",
     "text": [
      "X1 White\n"
     ]
    }
   ],
   "source": [
    "model1.message()"
   ]
  },
  {
   "cell_type": "code",
   "execution_count": 26,
   "id": "46eb617d",
   "metadata": {},
   "outputs": [],
   "source": [
    "class Car1(Car):\n",
    "    pass"
   ]
  },
  {
   "cell_type": "code",
   "execution_count": 27,
   "id": "dc3223b7",
   "metadata": {},
   "outputs": [],
   "source": [
    "model1 = Car1(\"B1\", \"Blue\")"
   ]
  },
  {
   "cell_type": "code",
   "execution_count": 28,
   "id": "e5c26fd6",
   "metadata": {},
   "outputs": [
    {
     "name": "stdout",
     "output_type": "stream",
     "text": [
      "B1 Blue\n"
     ]
    }
   ],
   "source": [
    "model1.message()"
   ]
  },
  {
   "cell_type": "code",
   "execution_count": 34,
   "id": "097f1c5b",
   "metadata": {},
   "outputs": [],
   "source": [
    "class Car1(Car):\n",
    "    def __init__(self, name, color):\n",
    "        super().__init__(name, color)"
   ]
  },
  {
   "cell_type": "code",
   "execution_count": 35,
   "id": "5c76bb7d",
   "metadata": {},
   "outputs": [],
   "source": [
    "model2 = Car1(\"X2\", \"Yellow\")"
   ]
  },
  {
   "cell_type": "code",
   "execution_count": 37,
   "id": "78ecf630",
   "metadata": {},
   "outputs": [
    {
     "name": "stdout",
     "output_type": "stream",
     "text": [
      "X2 Yellow\n"
     ]
    }
   ],
   "source": [
    "model2.message()"
   ]
  },
  {
   "cell_type": "code",
   "execution_count": 38,
   "id": "a112b9c6",
   "metadata": {},
   "outputs": [],
   "source": [
    "model3 = Car1(\"X3\", \"Green\")"
   ]
  },
  {
   "cell_type": "code",
   "execution_count": 39,
   "id": "eb883d23",
   "metadata": {},
   "outputs": [
    {
     "name": "stdout",
     "output_type": "stream",
     "text": [
      "X3 Green\n"
     ]
    }
   ],
   "source": [
    "model3.message()"
   ]
  },
  {
   "cell_type": "code",
   "execution_count": null,
   "id": "7781c51a",
   "metadata": {},
   "outputs": [],
   "source": []
  }
 ],
 "metadata": {
  "kernelspec": {
   "display_name": "Python 3",
   "language": "python",
   "name": "python3"
  },
  "language_info": {
   "codemirror_mode": {
    "name": "ipython",
    "version": 3
   },
   "file_extension": ".py",
   "mimetype": "text/x-python",
   "name": "python",
   "nbconvert_exporter": "python",
   "pygments_lexer": "ipython3",
   "version": "3.8.8"
  }
 },
 "nbformat": 4,
 "nbformat_minor": 5
}
