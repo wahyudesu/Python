{
 "cells": [
  {
   "cell_type": "code",
   "execution_count": 1,
   "id": "1aacddeb",
   "metadata": {},
   "outputs": [],
   "source": [
    "multiply = lambda x: x * 20"
   ]
  },
  {
   "cell_type": "code",
   "execution_count": 2,
   "id": "eaab68cf",
   "metadata": {},
   "outputs": [
    {
     "name": "stdout",
     "output_type": "stream",
     "text": [
      "40\n"
     ]
    }
   ],
   "source": [
    "print(multiply(2))"
   ]
  },
  {
   "cell_type": "code",
   "execution_count": 3,
   "id": "b0c364f7",
   "metadata": {},
   "outputs": [
    {
     "name": "stdout",
     "output_type": "stream",
     "text": [
      "60\n"
     ]
    }
   ],
   "source": [
    "print(multiply(3))"
   ]
  },
  {
   "cell_type": "code",
   "execution_count": 4,
   "id": "c272bf09",
   "metadata": {},
   "outputs": [],
   "source": [
    "remaind = lambda n: n % 2"
   ]
  },
  {
   "cell_type": "code",
   "execution_count": 5,
   "id": "3edf9426",
   "metadata": {},
   "outputs": [
    {
     "name": "stdout",
     "output_type": "stream",
     "text": [
      "1\n"
     ]
    }
   ],
   "source": [
    "print(remaind(11))"
   ]
  },
  {
   "cell_type": "code",
   "execution_count": 6,
   "id": "b37a48ac",
   "metadata": {},
   "outputs": [
    {
     "name": "stdout",
     "output_type": "stream",
     "text": [
      "0\n"
     ]
    }
   ],
   "source": [
    "print(remaind(20))"
   ]
  },
  {
   "cell_type": "code",
   "execution_count": 7,
   "id": "afeabed2",
   "metadata": {},
   "outputs": [],
   "source": [
    "def testing(n):\n",
    "    return lambda i: i * n"
   ]
  },
  {
   "cell_type": "code",
   "execution_count": 10,
   "id": "317de58a",
   "metadata": {},
   "outputs": [],
   "source": [
    "r1 = testing(120)"
   ]
  },
  {
   "cell_type": "code",
   "execution_count": 14,
   "id": "e7d156a1",
   "metadata": {},
   "outputs": [],
   "source": [
    "r2 = testing(200)"
   ]
  },
  {
   "cell_type": "code",
   "execution_count": 15,
   "id": "1496187b",
   "metadata": {},
   "outputs": [
    {
     "name": "stdout",
     "output_type": "stream",
     "text": [
      "600\n"
     ]
    }
   ],
   "source": [
    "print(r1(5))"
   ]
  },
  {
   "cell_type": "code",
   "execution_count": 16,
   "id": "c09c82de",
   "metadata": {},
   "outputs": [
    {
     "name": "stdout",
     "output_type": "stream",
     "text": [
      "2000\n"
     ]
    }
   ],
   "source": [
    "print(r2(10))"
   ]
  },
  {
   "cell_type": "code",
   "execution_count": null,
   "id": "5a0f185c",
   "metadata": {},
   "outputs": [],
   "source": []
  }
 ],
 "metadata": {
  "kernelspec": {
   "display_name": "Python 3",
   "language": "python",
   "name": "python3"
  },
  "language_info": {
   "codemirror_mode": {
    "name": "ipython",
    "version": 3
   },
   "file_extension": ".py",
   "mimetype": "text/x-python",
   "name": "python",
   "nbconvert_exporter": "python",
   "pygments_lexer": "ipython3",
   "version": "3.8.8"
  }
 },
 "nbformat": 4,
 "nbformat_minor": 5
}
