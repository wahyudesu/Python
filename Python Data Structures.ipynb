{
 "cells": [
  {
   "cell_type": "markdown",
   "id": "49ff18b3",
   "metadata": {},
   "source": [
    "# Lists in Python"
   ]
  },
  {
   "cell_type": "code",
   "execution_count": 25,
   "id": "4a1a101c",
   "metadata": {},
   "outputs": [
    {
     "name": "stdout",
     "output_type": "stream",
     "text": [
      "[]\n",
      "[]\n"
     ]
    }
   ],
   "source": [
    "#List creation\n",
    "new_list = []\n",
    "new_list1 = list()\n",
    "print(new_list)\n",
    "print(new_list1)"
   ]
  },
  {
   "cell_type": "code",
   "execution_count": 26,
   "id": "67edd2c9",
   "metadata": {},
   "outputs": [
    {
     "data": {
      "text/plain": [
       "list"
      ]
     },
     "execution_count": 26,
     "metadata": {},
     "output_type": "execute_result"
    }
   ],
   "source": [
    "#Type of list\n",
    "type(new_list)"
   ]
  },
  {
   "cell_type": "code",
   "execution_count": 29,
   "id": "9278d3ed",
   "metadata": {},
   "outputs": [
    {
     "name": "stdout",
     "output_type": "stream",
     "text": [
      "<class 'list'>\n",
      "<class 'list'>\n"
     ]
    }
   ],
   "source": [
    "#List of numbers\n",
    "nums = [1, 2, 3, 4, 5]\n",
    "nums1 = list((10, 15, 20))\n",
    "\n",
    "print(type(nums))\n",
    "print(type(nums1))"
   ]
  },
  {
   "cell_type": "code",
   "execution_count": 31,
   "id": "1f972802",
   "metadata": {},
   "outputs": [
    {
     "name": "stdout",
     "output_type": "stream",
     "text": [
      "['blue', 'red', 'yellow']\n"
     ]
    }
   ],
   "source": [
    "#List of strings\n",
    "str_list = [\"blue\", \"red\", \"yellow\"]\n",
    "print(str_list)"
   ]
  },
  {
   "cell_type": "code",
   "execution_count": 33,
   "id": "30cd7534",
   "metadata": {},
   "outputs": [
    {
     "name": "stdout",
     "output_type": "stream",
     "text": [
      "The mixed list: ['Blue', True, 1, 3.5]\n"
     ]
    }
   ],
   "source": [
    "#Muliple types in a list\n",
    "mixed_list = [\"Blue\", True, 1, 3.5]\n",
    "print(\"The mixed list:\", mixed_list)"
   ]
  },
  {
   "cell_type": "code",
   "execution_count": 34,
   "id": "26e52f0d",
   "metadata": {},
   "outputs": [
    {
     "name": "stdout",
     "output_type": "stream",
     "text": [
      "[1, 2, [3, 3.1, 3.5], 4, 5]\n"
     ]
    }
   ],
   "source": [
    "#List in a list\n",
    "nums = [1, 2, [3, 3.1, 3.5], 4, 5]\n",
    "print(nums)"
   ]
  },
  {
   "cell_type": "code",
   "execution_count": 36,
   "id": "b807ced3",
   "metadata": {},
   "outputs": [
    {
     "name": "stdout",
     "output_type": "stream",
     "text": [
      "1\n",
      "2\n",
      "[3, 3.1, 3.5]\n"
     ]
    }
   ],
   "source": [
    "#Accessing list items with the index number\n",
    "print(nums[0])\n",
    "print(nums[1])\n",
    "print(nums[2])"
   ]
  },
  {
   "cell_type": "code",
   "execution_count": 37,
   "id": "9a227190",
   "metadata": {},
   "outputs": [
    {
     "data": {
      "text/plain": [
       "5"
      ]
     },
     "execution_count": 37,
     "metadata": {},
     "output_type": "execute_result"
    }
   ],
   "source": [
    "#Knowing the number of items in list\n",
    "len(nums)"
   ]
  },
  {
   "cell_type": "code",
   "execution_count": 38,
   "id": "5e294441",
   "metadata": {},
   "outputs": [
    {
     "data": {
      "text/plain": [
       "[1, 2, [3, 3.1, 3.5]]"
      ]
     },
     "execution_count": 38,
     "metadata": {},
     "output_type": "execute_result"
    }
   ],
   "source": [
    "nums[0:3]"
   ]
  },
  {
   "cell_type": "code",
   "execution_count": 39,
   "id": "75f517b8",
   "metadata": {},
   "outputs": [
    {
     "data": {
      "text/plain": [
       "[1, 2, [3, 3.1, 3.5]]"
      ]
     },
     "execution_count": 39,
     "metadata": {},
     "output_type": "execute_result"
    }
   ],
   "source": [
    "nums[:3]"
   ]
  },
  {
   "cell_type": "code",
   "execution_count": 40,
   "id": "f8314cda",
   "metadata": {},
   "outputs": [
    {
     "data": {
      "text/plain": [
       "[4, 5]"
      ]
     },
     "execution_count": 40,
     "metadata": {},
     "output_type": "execute_result"
    }
   ],
   "source": [
    "nums[3:]"
   ]
  },
  {
   "cell_type": "code",
   "execution_count": 42,
   "id": "4c0863ac",
   "metadata": {},
   "outputs": [
    {
     "name": "stdout",
     "output_type": "stream",
     "text": [
      "5\n",
      "4\n"
     ]
    }
   ],
   "source": [
    "print(nums[-1])\n",
    "print(nums[-2])"
   ]
  },
  {
   "cell_type": "code",
   "execution_count": 46,
   "id": "2e48af09",
   "metadata": {},
   "outputs": [],
   "source": [
    "colors = [\"red\", \"black\", \"white\"]"
   ]
  },
  {
   "cell_type": "code",
   "execution_count": 71,
   "id": "5a3fbe01",
   "metadata": {},
   "outputs": [
    {
     "data": {
      "text/plain": [
       "False"
      ]
     },
     "execution_count": 71,
     "metadata": {},
     "output_type": "execute_result"
    }
   ],
   "source": [
    "\"white\" in colors"
   ]
  },
  {
   "cell_type": "code",
   "execution_count": 70,
   "id": "957b83ab",
   "metadata": {},
   "outputs": [
    {
     "data": {
      "text/plain": [
       "True"
      ]
     },
     "execution_count": 70,
     "metadata": {},
     "output_type": "execute_result"
    }
   ],
   "source": [
    "\"blue\" not in colors"
   ]
  },
  {
   "cell_type": "code",
   "execution_count": 49,
   "id": "4999c3a8",
   "metadata": {},
   "outputs": [],
   "source": [
    "colors.append(\"yellow\")"
   ]
  },
  {
   "cell_type": "code",
   "execution_count": 50,
   "id": "a00cc4b4",
   "metadata": {},
   "outputs": [
    {
     "name": "stdout",
     "output_type": "stream",
     "text": [
      "['red', 'black', 'white', 'yellow']\n"
     ]
    }
   ],
   "source": [
    "print(colors)"
   ]
  },
  {
   "cell_type": "code",
   "execution_count": 51,
   "id": "18991a1c",
   "metadata": {},
   "outputs": [],
   "source": [
    "colors.insert(2, \"green\")"
   ]
  },
  {
   "cell_type": "code",
   "execution_count": 52,
   "id": "643c3b4e",
   "metadata": {},
   "outputs": [
    {
     "data": {
      "text/plain": [
       "['red', 'black', 'green', 'white', 'yellow']"
      ]
     },
     "execution_count": 52,
     "metadata": {},
     "output_type": "execute_result"
    }
   ],
   "source": [
    "colors"
   ]
  },
  {
   "cell_type": "code",
   "execution_count": 53,
   "id": "813d03d9",
   "metadata": {},
   "outputs": [
    {
     "data": {
      "text/plain": [
       "'white'"
      ]
     },
     "execution_count": 53,
     "metadata": {},
     "output_type": "execute_result"
    }
   ],
   "source": [
    "colors.pop(3)"
   ]
  },
  {
   "cell_type": "code",
   "execution_count": 54,
   "id": "29fa4d34",
   "metadata": {},
   "outputs": [
    {
     "data": {
      "text/plain": [
       "['red', 'black', 'green', 'yellow']"
      ]
     },
     "execution_count": 54,
     "metadata": {},
     "output_type": "execute_result"
    }
   ],
   "source": [
    "colors"
   ]
  },
  {
   "cell_type": "code",
   "execution_count": 55,
   "id": "8c293ae1",
   "metadata": {},
   "outputs": [],
   "source": [
    "colors.extend([\"indigo\", \"orange\"])"
   ]
  },
  {
   "cell_type": "code",
   "execution_count": 56,
   "id": "f9f5c83d",
   "metadata": {},
   "outputs": [
    {
     "data": {
      "text/plain": [
       "['red', 'black', 'green', 'yellow', 'indigo', 'orange']"
      ]
     },
     "execution_count": 56,
     "metadata": {},
     "output_type": "execute_result"
    }
   ],
   "source": [
    "colors"
   ]
  },
  {
   "cell_type": "code",
   "execution_count": 57,
   "id": "e19a9a90",
   "metadata": {},
   "outputs": [],
   "source": [
    "del colors[0]"
   ]
  },
  {
   "cell_type": "code",
   "execution_count": 58,
   "id": "64d05944",
   "metadata": {},
   "outputs": [
    {
     "data": {
      "text/plain": [
       "['black', 'green', 'yellow', 'indigo', 'orange']"
      ]
     },
     "execution_count": 58,
     "metadata": {},
     "output_type": "execute_result"
    }
   ],
   "source": [
    "colors"
   ]
  },
  {
   "cell_type": "markdown",
   "id": "f998d924",
   "metadata": {},
   "source": [
    "# Tuples in Python"
   ]
  },
  {
   "cell_type": "code",
   "execution_count": 59,
   "id": "34a0f75e",
   "metadata": {},
   "outputs": [],
   "source": [
    "nums = tuple((1, 2, 3, 4, 5))\n",
    "nums1 = (1, 2, 3, 4, 5, 6, 7, 8)"
   ]
  },
  {
   "cell_type": "code",
   "execution_count": 60,
   "id": "f1c8d91a",
   "metadata": {},
   "outputs": [
    {
     "name": "stdout",
     "output_type": "stream",
     "text": [
      "<class 'tuple'>\n",
      "<class 'tuple'>\n"
     ]
    }
   ],
   "source": [
    "print(type(nums))\n",
    "print(type(nums1))"
   ]
  },
  {
   "cell_type": "code",
   "execution_count": 61,
   "id": "df81224d",
   "metadata": {},
   "outputs": [
    {
     "data": {
      "text/plain": [
       "tuple"
      ]
     },
     "execution_count": 61,
     "metadata": {},
     "output_type": "execute_result"
    }
   ],
   "source": [
    "type(nums)"
   ]
  },
  {
   "cell_type": "code",
   "execution_count": 62,
   "id": "f7053c7e",
   "metadata": {},
   "outputs": [
    {
     "data": {
      "text/plain": [
       "8"
      ]
     },
     "execution_count": 62,
     "metadata": {},
     "output_type": "execute_result"
    }
   ],
   "source": [
    "len(nums1)"
   ]
  },
  {
   "cell_type": "code",
   "execution_count": 63,
   "id": "5dad4054",
   "metadata": {},
   "outputs": [
    {
     "data": {
      "text/plain": [
       "1"
      ]
     },
     "execution_count": 63,
     "metadata": {},
     "output_type": "execute_result"
    }
   ],
   "source": [
    "nums1[0]"
   ]
  },
  {
   "cell_type": "code",
   "execution_count": 64,
   "id": "184176d9",
   "metadata": {},
   "outputs": [
    {
     "data": {
      "text/plain": [
       "(1, 2, 3)"
      ]
     },
     "execution_count": 64,
     "metadata": {},
     "output_type": "execute_result"
    }
   ],
   "source": [
    "nums1[0:3]"
   ]
  },
  {
   "cell_type": "code",
   "execution_count": 65,
   "id": "46dbec23",
   "metadata": {},
   "outputs": [
    {
     "ename": "TypeError",
     "evalue": "'tuple' object does not support item assignment",
     "output_type": "error",
     "traceback": [
      "\u001b[1;31m---------------------------------------------------------------------------\u001b[0m",
      "\u001b[1;31mTypeError\u001b[0m                                 Traceback (most recent call last)",
      "\u001b[1;32m<ipython-input-65-789841b4321d>\u001b[0m in \u001b[0;36m<module>\u001b[1;34m\u001b[0m\n\u001b[1;32m----> 1\u001b[1;33m \u001b[0mnums\u001b[0m\u001b[1;33m[\u001b[0m\u001b[1;36m1\u001b[0m\u001b[1;33m]\u001b[0m \u001b[1;33m=\u001b[0m \u001b[1;36m10\u001b[0m\u001b[1;33m\u001b[0m\u001b[1;33m\u001b[0m\u001b[0m\n\u001b[0m",
      "\u001b[1;31mTypeError\u001b[0m: 'tuple' object does not support item assignment"
     ]
    }
   ],
   "source": [
    "nums[1] = 10"
   ]
  },
  {
   "cell_type": "code",
   "execution_count": 66,
   "id": "382ed662",
   "metadata": {},
   "outputs": [],
   "source": [
    "new_fruits = tuple((\"Orange\", \"Cherry\", \"Lemon\"))"
   ]
  },
  {
   "cell_type": "code",
   "execution_count": 72,
   "id": "5af9a6b7",
   "metadata": {},
   "outputs": [
    {
     "data": {
      "text/plain": [
       "True"
      ]
     },
     "execution_count": 72,
     "metadata": {},
     "output_type": "execute_result"
    }
   ],
   "source": [
    "\"Orange\" in new_fruits"
   ]
  },
  {
   "cell_type": "code",
   "execution_count": 73,
   "id": "c1d6ea7f",
   "metadata": {},
   "outputs": [
    {
     "data": {
      "text/plain": [
       "False"
      ]
     },
     "execution_count": 73,
     "metadata": {},
     "output_type": "execute_result"
    }
   ],
   "source": [
    "\"Cherry\" not in new_fruits"
   ]
  },
  {
   "cell_type": "code",
   "execution_count": 74,
   "id": "fceff9f7",
   "metadata": {},
   "outputs": [],
   "source": [
    "del new_fruits"
   ]
  },
  {
   "cell_type": "code",
   "execution_count": 75,
   "id": "e195d3f6",
   "metadata": {},
   "outputs": [
    {
     "ename": "NameError",
     "evalue": "name 'new_fruits' is not defined",
     "output_type": "error",
     "traceback": [
      "\u001b[1;31m---------------------------------------------------------------------------\u001b[0m",
      "\u001b[1;31mNameError\u001b[0m                                 Traceback (most recent call last)",
      "\u001b[1;32m<ipython-input-75-3881ea8ebbd2>\u001b[0m in \u001b[0;36m<module>\u001b[1;34m\u001b[0m\n\u001b[1;32m----> 1\u001b[1;33m \u001b[0mnew_fruits\u001b[0m\u001b[1;33m\u001b[0m\u001b[1;33m\u001b[0m\u001b[0m\n\u001b[0m",
      "\u001b[1;31mNameError\u001b[0m: name 'new_fruits' is not defined"
     ]
    }
   ],
   "source": [
    "new_fruits"
   ]
  },
  {
   "cell_type": "markdown",
   "id": "6a0df0ed",
   "metadata": {},
   "source": [
    "# Dictionaries Data Structure"
   ]
  },
  {
   "cell_type": "code",
   "execution_count": 81,
   "id": "5b8c4c81",
   "metadata": {},
   "outputs": [],
   "source": [
    "new_D = {\"Ronaldo\": 36, \"Messi\": 34, \"Salah\": 27}\n",
    "new_D1 = dict({'Dany': 33, 'Sane': 24, 'Sam': 30})"
   ]
  },
  {
   "cell_type": "code",
   "execution_count": 83,
   "id": "0fdd309d",
   "metadata": {},
   "outputs": [
    {
     "name": "stdout",
     "output_type": "stream",
     "text": [
      "<class 'dict'>\n",
      "<class 'dict'>\n"
     ]
    }
   ],
   "source": [
    "print(type(new_D))\n",
    "print(type(new_D1))"
   ]
  },
  {
   "cell_type": "code",
   "execution_count": 92,
   "id": "5ba15769",
   "metadata": {},
   "outputs": [],
   "source": [
    "#Sequence of tuples\n",
    "children = dict({\n",
    "    (\"Child1\", \"5\"),\n",
    "    (\"Child2\", \"6\"),\n",
    "    (\"Child3\", \"7\"),\n",
    "})"
   ]
  },
  {
   "cell_type": "code",
   "execution_count": 95,
   "id": "4f0d64e7",
   "metadata": {},
   "outputs": [
    {
     "data": {
      "text/plain": [
       "dict"
      ]
     },
     "execution_count": 95,
     "metadata": {},
     "output_type": "execute_result"
    }
   ],
   "source": [
    "type(children)"
   ]
  },
  {
   "cell_type": "code",
   "execution_count": 96,
   "id": "ea74d256",
   "metadata": {},
   "outputs": [
    {
     "data": {
      "text/plain": [
       "34"
      ]
     },
     "execution_count": 96,
     "metadata": {},
     "output_type": "execute_result"
    }
   ],
   "source": [
    "new_D[\"Messi\"]"
   ]
  },
  {
   "cell_type": "code",
   "execution_count": 97,
   "id": "541323d7",
   "metadata": {},
   "outputs": [],
   "source": [
    "new_D[\"Messi\"] = \"35\""
   ]
  },
  {
   "cell_type": "code",
   "execution_count": 98,
   "id": "c95b948a",
   "metadata": {},
   "outputs": [
    {
     "data": {
      "text/plain": [
       "{'Ronaldo': 36, 'Messi': '35', 'Salah': 27}"
      ]
     },
     "execution_count": 98,
     "metadata": {},
     "output_type": "execute_result"
    }
   ],
   "source": [
    "new_D"
   ]
  },
  {
   "cell_type": "code",
   "execution_count": 99,
   "id": "8123dd24",
   "metadata": {},
   "outputs": [],
   "source": [
    "del new_D[\"Messi\"]"
   ]
  },
  {
   "cell_type": "code",
   "execution_count": 100,
   "id": "afee0d4f",
   "metadata": {},
   "outputs": [
    {
     "data": {
      "text/plain": [
       "{'Ronaldo': 36, 'Salah': 27}"
      ]
     },
     "execution_count": 100,
     "metadata": {},
     "output_type": "execute_result"
    }
   ],
   "source": [
    "new_D"
   ]
  },
  {
   "cell_type": "code",
   "execution_count": 101,
   "id": "c57c5f2f",
   "metadata": {},
   "outputs": [
    {
     "data": {
      "text/plain": [
       "False"
      ]
     },
     "execution_count": 101,
     "metadata": {},
     "output_type": "execute_result"
    }
   ],
   "source": [
    "\"Messi\" in new_D"
   ]
  },
  {
   "cell_type": "markdown",
   "id": "d71bed23",
   "metadata": {},
   "source": [
    "# Set Data Structure"
   ]
  },
  {
   "cell_type": "code",
   "execution_count": 102,
   "id": "1136e404",
   "metadata": {},
   "outputs": [],
   "source": [
    "set_nums = set((2, 4, 6, 8, 10))\n",
    "set_nums1 = {1, 2, 3, 4, 5, 6}"
   ]
  },
  {
   "cell_type": "code",
   "execution_count": 105,
   "id": "9c7721f1",
   "metadata": {},
   "outputs": [
    {
     "name": "stdout",
     "output_type": "stream",
     "text": [
      "<class 'set'>\n",
      "<class 'set'>\n"
     ]
    }
   ],
   "source": [
    "print(type(set_nums))\n",
    "print(type(set_nums1))"
   ]
  },
  {
   "cell_type": "code",
   "execution_count": 106,
   "id": "aa5286da",
   "metadata": {},
   "outputs": [
    {
     "data": {
      "text/plain": [
       "{'P', 'h', 'n', 'o', 't', 'y'}"
      ]
     },
     "execution_count": 106,
     "metadata": {},
     "output_type": "execute_result"
    }
   ],
   "source": [
    "set('Python')"
   ]
  },
  {
   "cell_type": "code",
   "execution_count": 108,
   "id": "4b69eb57",
   "metadata": {},
   "outputs": [],
   "source": [
    "x = set({1: \"name\", 2: \"age\"})"
   ]
  },
  {
   "cell_type": "code",
   "execution_count": 109,
   "id": "5b0307bf",
   "metadata": {},
   "outputs": [
    {
     "data": {
      "text/plain": [
       "set"
      ]
     },
     "execution_count": 109,
     "metadata": {},
     "output_type": "execute_result"
    }
   ],
   "source": [
    "type(x)"
   ]
  },
  {
   "cell_type": "code",
   "execution_count": 110,
   "id": "74340c45",
   "metadata": {},
   "outputs": [],
   "source": [
    "del x"
   ]
  },
  {
   "cell_type": "code",
   "execution_count": 111,
   "id": "47109ee4",
   "metadata": {},
   "outputs": [
    {
     "ename": "NameError",
     "evalue": "name 'x' is not defined",
     "output_type": "error",
     "traceback": [
      "\u001b[1;31m---------------------------------------------------------------------------\u001b[0m",
      "\u001b[1;31mNameError\u001b[0m                                 Traceback (most recent call last)",
      "\u001b[1;32m<ipython-input-111-6fcf9dfbd479>\u001b[0m in \u001b[0;36m<module>\u001b[1;34m\u001b[0m\n\u001b[1;32m----> 1\u001b[1;33m \u001b[0mx\u001b[0m\u001b[1;33m\u001b[0m\u001b[1;33m\u001b[0m\u001b[0m\n\u001b[0m",
      "\u001b[1;31mNameError\u001b[0m: name 'x' is not defined"
     ]
    }
   ],
   "source": [
    "x"
   ]
  },
  {
   "cell_type": "code",
   "execution_count": null,
   "id": "1452406b",
   "metadata": {},
   "outputs": [],
   "source": []
  }
 ],
 "metadata": {
  "kernelspec": {
   "display_name": "Python 3",
   "language": "python",
   "name": "python3"
  },
  "language_info": {
   "codemirror_mode": {
    "name": "ipython",
    "version": 3
   },
   "file_extension": ".py",
   "mimetype": "text/x-python",
   "name": "python",
   "nbconvert_exporter": "python",
   "pygments_lexer": "ipython3",
   "version": "3.8.8"
  }
 },
 "nbformat": 4,
 "nbformat_minor": 5
}
